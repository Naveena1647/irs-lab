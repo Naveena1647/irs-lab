{
  "cells": [
    {
      "cell_type": "code",
      "execution_count": 18,
      "metadata": {
        "id": "FdS5UOoX6pMp"
      },
      "outputs": [],
      "source": [
        "import nltk\n",
        "from nltk.tokenize import word_tokenize\n",
        "from nltk.stem import PorterStemmer, SnowballStemmer\n",
        "from nltk.stem import WordNetLemmatizer"
      ]
    },
    {
      "cell_type": "code",
      "execution_count": 19,
      "metadata": {
        "colab": {
          "base_uri": "https://localhost:8080/"
        },
        "id": "8WcqULlL6utc",
        "outputId": "610fa4c8-5465-4054-cfb0-ae3195696ce4"
      },
      "outputs": [
        {
          "name": "stderr",
          "output_type": "stream",
          "text": [
            "[nltk_data] Downloading package punkt to /root/nltk_data...\n",
            "[nltk_data]   Package punkt is already up-to-date!\n",
            "[nltk_data] Downloading package wordnet to /root/nltk_data...\n",
            "[nltk_data]   Package wordnet is already up-to-date!\n",
            "[nltk_data] Downloading package omw-1.4 to /root/nltk_data...\n",
            "[nltk_data]   Package omw-1.4 is already up-to-date!\n",
            "[nltk_data] Downloading package punkt_tab to /root/nltk_data...\n",
            "[nltk_data]   Package punkt_tab is already up-to-date!\n"
          ]
        },
        {
          "data": {
            "text/plain": [
              "True"
            ]
          },
          "execution_count": 19,
          "metadata": {},
          "output_type": "execute_result"
        }
      ],
      "source": [
        "nltk.download('punkt')\n",
        "nltk.download('wordnet')\n",
        "nltk.download('omw-1.4')\n",
        "nltk.download('punkt_tab')"
      ]
    },
    {
      "cell_type": "code",
      "execution_count": 20,
      "metadata": {
        "id": "F5xiOH_v6yNQ"
      },
      "outputs": [],
      "source": [
        "text = \"Jumping players were running swiftly in the fields.\""
      ]
    },
    {
      "cell_type": "markdown",
      "metadata": {
        "id": "QVxzNRgs635L"
      },
      "source": [
        "**Tokenization**"
      ]
    },
    {
      "cell_type": "code",
      "execution_count": 21,
      "metadata": {
        "colab": {
          "base_uri": "https://localhost:8080/"
        },
        "id": "W75j2mB160rP",
        "outputId": "7c346f51-3bfa-45c4-ee83-f73d9a978a54"
      },
      "outputs": [
        {
          "name": "stdout",
          "output_type": "stream",
          "text": [
            "Tokenized Words:\n",
            "['Jumping', 'players', 'were', 'running', 'swiftly', 'in', 'the', 'fields', '.']\n"
          ]
        }
      ],
      "source": [
        "tokens = word_tokenize(text)\n",
        "print(\"Tokenized Words:\")\n",
        "print(tokens)"
      ]
    },
    {
      "cell_type": "markdown",
      "metadata": {
        "id": "co_8-43D6-TB"
      },
      "source": [
        "**Stemming using Porter Stemmer**"
      ]
    },
    {
      "cell_type": "code",
      "execution_count": 22,
      "metadata": {
        "colab": {
          "base_uri": "https://localhost:8080/"
        },
        "id": "MGLI9Qly7D_k",
        "outputId": "e1425e6c-3dc1-4a3e-9dce-ad855641ba7c"
      },
      "outputs": [
        {
          "name": "stdout",
          "output_type": "stream",
          "text": [
            "\n",
            "Stemming using Porter Stemmer:\n",
            "['jump', 'player', 'were', 'run', 'swiftli', 'in', 'the', 'field', '.']\n"
          ]
        }
      ],
      "source": [
        "porter_stemmer = PorterStemmer()\n",
        "porter_stems = [porter_stemmer.stem(word) for word in tokens]\n",
        "print(\"\\nStemming using Porter Stemmer:\")\n",
        "print(porter_stems)"
      ]
    },
    {
      "cell_type": "markdown",
      "metadata": {
        "id": "BI2_n3lp7Kot"
      },
      "source": [
        "**Stemming using Snowball Stemmer**"
      ]
    },
    {
      "cell_type": "code",
      "execution_count": 23,
      "metadata": {
        "colab": {
          "base_uri": "https://localhost:8080/"
        },
        "id": "jYCh8f7h7Hr3",
        "outputId": "8db46fbc-5f74-46e4-bfd6-2cfd4a98cba7"
      },
      "outputs": [
        {
          "name": "stdout",
          "output_type": "stream",
          "text": [
            "\n",
            "Stemming using Snowball Stemmer:\n",
            "['jump', 'player', 'were', 'run', 'swift', 'in', 'the', 'field', '.']\n"
          ]
        }
      ],
      "source": [
        "snowball_stemmer = SnowballStemmer(\"english\")\n",
        "snowball_stems = [snowball_stemmer.stem(word) for word in tokens]\n",
        "print(\"\\nStemming using Snowball Stemmer:\")\n",
        "print(snowball_stems)"
      ]
    },
    {
      "cell_type": "markdown",
      "metadata": {
        "id": "vtn4aDP37QGQ"
      },
      "source": [
        "**Lemmatization** **using** **WordNetLemmatizer** **bold text**"
      ]
    },
    {
      "cell_type": "code",
      "execution_count": 24,
      "metadata": {
        "colab": {
          "base_uri": "https://localhost:8080/"
        },
        "id": "fg2um7bD7TmL",
        "outputId": "1f72ad01-7eab-4473-eee9-62649401310f"
      },
      "outputs": [
        {
          "name": "stdout",
          "output_type": "stream",
          "text": [
            "\n",
            "Lemmatization using WordNetLemmatizer:\n",
            "['Jumping', 'player', 'were', 'running', 'swiftly', 'in', 'the', 'field', '.']\n"
          ]
        }
      ],
      "source": [
        "lemmatizer = WordNetLemmatizer()\n",
        "lemmatized_words = [lemmatizer.lemmatize(word) for word in tokens]\n",
        "print(\"\\nLemmatization using WordNetLemmatizer:\")\n",
        "print(lemmatized_words)"
      ]
    },
    {
      "cell_type": "code",
      "execution_count": 14,
      "metadata": {
        "id": "tfYGtjBY9frK"
      },
      "outputs": [],
      "source": [
        "words = nltk.word_tokenize(text)\n",
        "lemmatizer = WordNetLemmatizer()"
      ]
    },
    {
      "cell_type": "markdown",
      "metadata": {
        "id": "BB6_lRVi-lks"
      },
      "source": [
        " suffixes to remove"
      ]
    },
    {
      "cell_type": "code",
      "execution_count": 25,
      "metadata": {
        "id": "ANesEkKs9k8r"
      },
      "outputs": [],
      "source": [
        "suffixes = [\"ing\", \"ed\", \"ly\", \"es\", \"s\"]"
      ]
    },
    {
      "cell_type": "code",
      "execution_count": 26,
      "metadata": {
        "colab": {
          "base_uri": "https://localhost:8080/"
        },
        "id": "XOlHVm0s9n-Y",
        "outputId": "49bb7713-c028-4b9a-bbc3-84363140b017"
      },
      "outputs": [
        {
          "name": "stdout",
          "output_type": "stream",
          "text": [
            "Words with meaningful root words after removing suffixes:\n",
            "\n"
          ]
        }
      ],
      "source": [
        "print(\"Words with meaningful root words after removing suffixes:\\n\")"
      ]
    },
    {
      "cell_type": "code",
      "execution_count": 28,
      "metadata": {
        "colab": {
          "base_uri": "https://localhost:8080/"
        },
        "id": "IhZA6roO9qyn",
        "outputId": "68e06252-e0a3-42d7-aae5-386c1b438818"
      },
      "outputs": [
        {
          "name": "stdout",
          "output_type": "stream",
          "text": [
            "Original Word: Jumping, Root Word: Jump\n",
            "Original Word: players, Root Word: player\n",
            "Original Word: swiftly, Root Word: swift\n",
            "Original Word: fields, Root Word: field\n"
          ]
        }
      ],
      "source": [
        "for word in words:\n",
        "    for suffix in suffixes:\n",
        "        if word.endswith(suffix):\n",
        "            root_word = word[: -len(suffix)]\n",
        "            from nltk.corpus import wordnet\n",
        "            if wordnet.synsets(root_word):\n",
        "                print(f\"Original Word: {word}, Root Word: {root_word}\")"
      ]
    }
  ],
  "metadata": {
    "colab": {
      "provenance": []
    },
    "kernelspec": {
      "display_name": "Python 3",
      "name": "python3"
    },
    "language_info": {
      "name": "python"
    }
  },
  "nbformat": 4,
  "nbformat_minor": 0
}
